{
 "cells": [
  {
   "cell_type": "code",
   "execution_count": 9,
   "metadata": {},
   "outputs": [],
   "source": [
    "import numpy as np\n",
    "import gc\n",
    "import h5py\n",
    "import matplotlib.pyplot as plt\n",
    "from mpl_toolkits.mplot3d import Axes3D\n",
    "import numpy as np\n",
    "import matplotlib as mpl\n",
    "#from sklearn.neighbors import KDTree\n",
    "import threading\n",
    "from numpy import linalg as LA\n",
    "from sympy import Plane, Point3D\n",
    "import pandas as pd\n",
    "from mpl_toolkits.axes_grid1 import AxesGrid\n",
    "import matplotlib.colors as colors\n",
    "import matplotlib.cbook as cbook\n",
    "import math\n",
    "import copy\n",
    "import sys\n",
    "import os\n",
    "from os.path import isfile, join\n",
    "from scipy.spatial import cKDTree\n",
    "from scipy.optimize import curve_fit\n",
    "import scipy\n",
    "from scipy import integrate\n",
    "\n",
    "plt.rcParams['font.weight'] = 'normal'\n",
    "plt.rcParams['text.usetex']=False\n",
    "plt.rcParams['font.family']='stixgeneral'\n",
    "plt.rcParams['mathtext.fontset']='stix'\n",
    "plt.rcParams['font.size'] = 20\n",
    "plt.rc('figure', facecolor='w')\n",
    "\n",
    "## Constants in cgs unites\n",
    "G=6.67408e-8\n",
    "H=67.26*3.2408e-20\n",
    "k_B=1.38064852e-16\n",
    "M_sun=1.99e+33\n",
    "pc=3.086e18\n",
    "kpc=3.086e21\n",
    "Mpc=3.086e24\n",
    "Gyr=365*24*3600*1e9\n",
    "Myr=365*24*3600*1e6\n",
    "m_p=1.6726219e-24\n",
    "eV=1.602176634e-12\n",
    "h_bar=1.0545718e-27\n",
    "c=2.99792458e10\n",
    "\n",
    "h=0.6774\n",
    "\n",
    "## Constants in mks unites\n",
    "k_B=1.38064852e-23\n",
    "Gyr=365*24*3600*1e9\n",
    "Myr=365*24*3600*1e6\n",
    "m_p=1.6726219e-27\n",
    "eV=1.602176634e-19\n",
    "h_bar=1.0545718e-34\n",
    "c=2.99792458e8"
   ]
  },
  {
   "cell_type": "code",
   "execution_count": null,
   "metadata": {},
   "outputs": [],
   "source": []
  },
  {
   "cell_type": "markdown",
   "metadata": {},
   "source": [
    "## 1. a)"
   ]
  },
  {
   "cell_type": "code",
   "execution_count": 15,
   "metadata": {},
   "outputs": [
    {
     "name": "stdout",
     "output_type": "stream",
     "text": [
      "<class 'numpy.float64'> 0.100000000000000005551115123125782702118158340454101562500000\n"
     ]
    }
   ],
   "source": [
    "# declare as double (numpy.float64)\n",
    "e=np.float64(0.1)\n",
    "print(type(e), '{:.60f}'.format(e))"
   ]
  },
  {
   "cell_type": "markdown",
   "metadata": {},
   "source": [
    "The error $\\Delta e = 5.55 \\times 10^{-18}$ and $\\Delta e \\,/\\,e = 5.55 \\times 10^{-17}$."
   ]
  },
  {
   "cell_type": "code",
   "execution_count": 17,
   "metadata": {},
   "outputs": [
    {
     "name": "stdout",
     "output_type": "stream",
     "text": [
      "<class 'numpy.float32'> 0.100000001490116119384765625000000000000000000000000000000000\n"
     ]
    }
   ],
   "source": [
    "# declare as single (numpy.float32)\n",
    "e=np.float32(0.1)\n",
    "print(type(e), '{:.60f}'.format(e))"
   ]
  },
  {
   "cell_type": "markdown",
   "metadata": {},
   "source": [
    "If I declare $e$ as single precision, the error $\\Delta e = 1.49 \\times 10^{-9}$ and $\\Delta e \\,/\\,e = 5.55 \\times 10^{-8}$."
   ]
  },
  {
   "cell_type": "code",
   "execution_count": null,
   "metadata": {},
   "outputs": [],
   "source": []
  },
  {
   "cell_type": "markdown",
   "metadata": {},
   "source": [
    "## 1. b)"
   ]
  },
  {
   "cell_type": "code",
   "execution_count": 44,
   "metadata": {},
   "outputs": [
    {
     "name": "stdout",
     "output_type": "stream",
     "text": [
      "1.1102230246251565404236316680908203125000e-16\n"
     ]
    }
   ],
   "source": [
    "# simple for loop (slower)\n",
    "n=100\n",
    "e=1\n",
    "\n",
    "for i in range(100):\n",
    "    e=e/2\n",
    "    if (1+e)==1:\n",
    "        print('{:.40e}'.format(e))\n",
    "        break"
   ]
  },
  {
   "cell_type": "code",
   "execution_count": 45,
   "metadata": {},
   "outputs": [
    {
     "name": "stdout",
     "output_type": "stream",
     "text": [
      "1.1102230246251565404236316680908203125000e-16\n"
     ]
    }
   ],
   "source": [
    "# numpy array (faster)\n",
    "n=100\n",
    "e_list=np.power(2.0,-1*np.arange(100))\n",
    "list_1=np.full(100,1)\n",
    "index=np.where(list_1==(e_list+list_1))[0]\n",
    "print('{:.40e}'.format(e_list[index[0]]))"
   ]
  },
  {
   "cell_type": "markdown",
   "metadata": {},
   "source": [
    "The roundoff error $\\epsilon = 1.11 \\times 10^{-16}$."
   ]
  },
  {
   "cell_type": "code",
   "execution_count": null,
   "metadata": {},
   "outputs": [],
   "source": []
  },
  {
   "cell_type": "markdown",
   "metadata": {},
   "source": [
    "## 1. c)"
   ]
  },
  {
   "cell_type": "markdown",
   "metadata": {},
   "source": [
    "My OS/hardware is Windows/Intel i7-8550U CPU @ 1.80 GHz. \n",
    "One of the classmates got the same result in Python 3.7 running on Ubuntu 18.04/Intel Core i7-6700HQ CPU @ 2.60 GHz.\n",
    "The other classmate got the same result in Python 3.7 running on OS X/Intel Core i5 CPU @ 2.30 GHz."
   ]
  },
  {
   "cell_type": "code",
   "execution_count": null,
   "metadata": {},
   "outputs": [],
   "source": []
  },
  {
   "cell_type": "code",
   "execution_count": null,
   "metadata": {},
   "outputs": [],
   "source": []
  },
  {
   "cell_type": "markdown",
   "metadata": {},
   "source": [
    "## 2. a)"
   ]
  },
  {
   "cell_type": "code",
   "execution_count": 2,
   "metadata": {},
   "outputs": [],
   "source": [
    "def f(x):\n",
    "    return x**(-3/2)"
   ]
  },
  {
   "cell_type": "code",
   "execution_count": 30,
   "metadata": {},
   "outputs": [
    {
     "name": "stdout",
     "output_type": "stream",
     "text": [
      "1.1055728090000843\n"
     ]
    }
   ],
   "source": [
    "n=1000\n",
    "a=1\n",
    "b=5\n",
    "\n",
    "# Analytical\n",
    "I=2*(a**(-0.5)-b**(-0.5))\n",
    "print(I)\n",
    "\n",
    "# Numerical\n",
    "delta_x_list=[]\n",
    "rec_list=[]\n",
    "tra_list=[]\n",
    "\n",
    "for n in range(1000,100000,500):\n",
    "    x=np.linspace(a,b,n+1)\n",
    "    delta_x=(b-a)/n\n",
    "    delta_x_list.append(delta_x)\n",
    "\n",
    "    # Rectangle rule\n",
    "    I_rec=0\n",
    "    for i in range(n):\n",
    "         I_rec+=f(x[i])*delta_x\n",
    "    rec_list.append(I_rec-I)\n",
    "\n",
    "\n",
    "    # Trapezoidal rule\n",
    "    I_tra=0\n",
    "    for i in range(n):\n",
    "         I_tra+=(f(x[i])+f(x[i+1]))/2*delta_x\n",
    "    tra_list.append(I_tra-I)"
   ]
  },
  {
   "cell_type": "code",
   "execution_count": 4,
   "metadata": {},
   "outputs": [
    {
     "data": {
      "image/png": "[encoded data removed]",
      "text/plain": [
       "<Figure size 1200x600 with 2 Axes>"
      ]
     },
     "metadata": {},
     "output_type": "display_data"
    }
   ],
   "source": [
    "fig=plt.figure(figsize=(12,6),dpi=100)\n",
    "ax1=fig.add_subplot(121)\n",
    "ax2=fig.add_subplot(122)\n",
    "\n",
    "ax1.plot(delta_x_list,rec_list,label='Rectangle')\n",
    "ax2.plot(delta_x_list,tra_list,label='Trapezoidal')\n",
    "\n",
    "ax1.set_xlim(delta_x_list[-1],delta_x_list[0])\n",
    "ax2.set_xlim(delta_x_list[-1],delta_x_list[0])\n",
    "#ax1.set_ylim(0,0.005)\n",
    "#ax2.set_ylim(0,0.0002)\n",
    "\n",
    "ax1.set_xscale('log')\n",
    "ax2.set_xscale('log')\n",
    "ax1.set_yscale('log')\n",
    "ax2.set_yscale('log')\n",
    "ax1.grid()\n",
    "ax2.grid()\n",
    "ax1.legend()\n",
    "ax2.legend()\n",
    "\n",
    "ax1.set_xlabel('$\\Delta x$')\n",
    "ax2.set_xlabel('$\\Delta x$')\n",
    "ax1.set_ylabel('$I - I_{\\mathrm {exact}}$')\n",
    "\n",
    "plt.tight_layout()"
   ]
  },
  {
   "cell_type": "code",
   "execution_count": null,
   "metadata": {},
   "outputs": [],
   "source": []
  },
  {
   "cell_type": "markdown",
   "metadata": {},
   "source": [
    "## 2. b)"
   ]
  },
  {
   "cell_type": "code",
   "execution_count": 34,
   "metadata": {},
   "outputs": [
    {
     "name": "stdout",
     "output_type": "stream",
     "text": [
      "Info: {'neval': 63, 'last': 2, 'iord': array([       1,        2, 16843009, 16843009, 16777473, 16777472,\n",
      "       16777472, 16777472, 16777472, 16777472, 16777472, 16777472,\n",
      "       16777472, 16777472, 16777472, 16777472, 16777472, 16777472,\n",
      "       16777472, 16777472, 16777472, 16777472, 16777472, 16777472,\n",
      "       16777472, 16777472, 16777472, 16777472, 16777472, 16777472,\n",
      "       16777472, 16777472, 16777472, 16777472, 16777472, 16777472,\n",
      "       16777472, 16777472, 16777472, 16777472, 16777472, 16777472,\n",
      "       16777472, 16777472, 16777472, 16777472, 16777472, 16777472,\n",
      "       16777472, 16777472], dtype=int32), 'alist': array([1.00000000e+000, 3.00000000e+000, 1.58101007e-322, 1.58101007e-322,\n",
      "       2.09507391e-316, 7.90505033e-323, 1.26463493e-316, 3.21142670e-322,\n",
      "       1.64506706e-316, 6.93071491e-310, 2.17010311e-316, 1.63041663e-322,\n",
      "       1.64505362e-316, 1.26667523e-316, 6.32404027e-322, 2.37151510e-322,\n",
      "       2.07167654e-316, 4.94065646e-324, 3.95252517e-323, 3.95252517e-323,\n",
      "       8.69555537e-322, 2.37151510e-322, 2.17010390e-316, 9.88131292e-324,\n",
      "       3.95252517e-323, 3.95252517e-323, 2.17010074e-316, 9.53546696e-322,\n",
      "       1.73516408e-316, 1.26461596e-316, 7.90505033e-323, 3.95252517e-323,\n",
      "       1.26463256e-316, 1.63041663e-322, 1.64504967e-316, 1.74628016e-316,\n",
      "       3.95252517e-322, 2.37151510e-322, 2.17011497e-316, 9.88131292e-324,\n",
      "       7.90505033e-323, 3.95252517e-323, 2.17011102e-316, 3.21142670e-322,\n",
      "       2.10456392e-316, 2.05795495e-316, 1.58101007e-322, 1.58101007e-322,\n",
      "       2.07166231e-316, 4.30103000e+000]), 'blist': array([3.00000000e+000, 5.00000000e+000, 1.58101007e-322, 1.58101007e-322,\n",
      "       2.09507391e-316, 7.90505033e-323, 1.26463493e-316, 3.21142670e-322,\n",
      "       1.64506706e-316, 6.93071491e-310, 2.17010311e-316, 1.63041663e-322,\n",
      "       1.64505362e-316, 1.26667523e-316, 6.32404027e-322, 2.37151510e-322,\n",
      "       2.07167654e-316, 4.94065646e-324, 3.95252517e-323, 3.95252517e-323,\n",
      "       8.69555537e-322, 2.37151510e-322, 2.17010390e-316, 9.88131292e-324,\n",
      "       3.95252517e-323, 3.95252517e-323, 2.17010074e-316, 9.53546696e-322,\n",
      "       1.73516408e-316, 1.26461596e-316, 7.90505033e-323, 3.95252517e-323,\n",
      "       1.26463256e-316, 1.63041663e-322, 1.64504967e-316, 1.74628016e-316,\n",
      "       3.95252517e-322, 2.37151510e-322, 2.17011497e-316, 9.88131292e-324,\n",
      "       7.90505033e-323, 3.95252517e-323, 2.17011102e-316, 3.21142670e-322,\n",
      "       2.10456392e-316, 2.05795495e-316, 1.58101007e-322, 1.58101007e-322,\n",
      "       2.07166231e-316, 4.30103000e+000]), 'rlist': array([8.45299462e-001, 2.60273347e-001, 1.58101007e-322, 1.58101007e-322,\n",
      "       2.09507391e-316, 7.90505033e-323, 1.26463493e-316, 3.21142670e-322,\n",
      "       1.64506706e-316, 6.93071491e-310, 2.17010311e-316, 1.63041663e-322,\n",
      "       1.64505362e-316, 1.26667523e-316, 6.32404027e-322, 2.37151510e-322,\n",
      "       2.07167654e-316, 4.94065646e-324, 3.95252517e-323, 3.95252517e-323,\n",
      "       8.69555537e-322, 2.37151510e-322, 2.17010390e-316, 9.88131292e-324,\n",
      "       3.95252517e-323, 3.95252517e-323, 2.17010074e-316, 9.53546696e-322,\n",
      "       1.73516408e-316, 1.26461596e-316, 7.90505033e-323, 3.95252517e-323,\n",
      "       1.26463256e-316, 1.63041663e-322, 1.64504967e-316, 1.74628016e-316,\n",
      "       3.95252517e-322, 2.37151510e-322, 2.17011497e-316, 9.88131292e-324,\n",
      "       7.90505033e-323, 3.95252517e-323, 2.17011102e-316, 3.21142670e-322,\n",
      "       2.10456392e-316, 2.05795495e-316, 1.58101007e-322, 1.58101007e-322,\n",
      "       2.07166231e-316, 4.30103000e+000]), 'elist': array([5.41541152e-013, 2.88961463e-015, 6.93007171e-310, 6.93007123e-310,\n",
      "       6.93071562e-310, 6.93007123e-310, 6.93007164e-310, 1.03870029e-316,\n",
      "       6.93071561e-310, 6.93007171e-310, 6.93071561e-310, 6.93071561e-310,\n",
      "       6.93071561e-310, 6.93022600e-310, 0.00000000e+000, 0.00000000e+000,\n",
      "       0.00000000e+000, 0.00000000e+000, 0.00000000e+000, 0.00000000e+000,\n",
      "       0.00000000e+000, 0.00000000e+000, 0.00000000e+000, 0.00000000e+000,\n",
      "       0.00000000e+000, 0.00000000e+000, 0.00000000e+000, 0.00000000e+000,\n",
      "       0.00000000e+000, 0.00000000e+000, 0.00000000e+000, 0.00000000e+000,\n",
      "       0.00000000e+000, 0.00000000e+000, 0.00000000e+000, 0.00000000e+000,\n",
      "       0.00000000e+000, 0.00000000e+000, 0.00000000e+000, 0.00000000e+000,\n",
      "       0.00000000e+000, 0.00000000e+000, 0.00000000e+000, 0.00000000e+000,\n",
      "       0.00000000e+000, 0.00000000e+000, 0.00000000e+000, 0.00000000e+000,\n",
      "       0.00000000e+000, 0.00000000e+000])}\n",
      "Value: 1.1055728090000842556150928430724889039993e+00\n",
      "Error: 0.0000000000000000000000000000000000000000e+00\n"
     ]
    }
   ],
   "source": [
    "a=1\n",
    "b=5\n",
    "\n",
    "I_scipy=integrate.quad(f, a, b, full_output=1)\n",
    "print('Info:', I_scipy[2])\n",
    "print('Value:', '{:.40e}'.format(I_scipy[0]))\n",
    "print('Error:', '{:.40e}'.format(I_scipy[0]-I))"
   ]
  },
  {
   "cell_type": "code",
   "execution_count": 43,
   "metadata": {},
   "outputs": [
    {
     "name": "stdout",
     "output_type": "stream",
     "text": [
      "Value: 1.1055728089996585961074515580548904836178e+00\n",
      "Trapezoidal - Black-box: -4.2566e-13\n",
      "Step size 4.0000e-08\n"
     ]
    }
   ],
   "source": [
    "# Trapezoidal rule again\n",
    "n=100000000\n",
    "a=1\n",
    "b=5\n",
    "x=np.linspace(a,b,n+1)\n",
    "delta_x=(b-a)/n\n",
    "delta_x_list.append(delta_x)\n",
    "    \n",
    "I_tra=0\n",
    "for i in range(n):\n",
    "     I_tra+=(f(x[i])+f(x[i+1]))/2*delta_x\n",
    "print('Value:', '{:.40e}'.format(I_tra))\n",
    "print('Trapezoidal - Black-box:', '{:.4e}'.format(I_tra-I_scipy[0]))\n",
    "print('Step size', '{:.4e}'.format(delta_x))"
   ]
  },
  {
   "cell_type": "markdown",
   "metadata": {},
   "source": [
    "*scipy.integrate.quad* routnine interpolates the integral using Gauss–Kronrod quadrature. \n",
    "It decides the number of points used for the interpolation and in this case, 63 function points and Gauss-Kronrod 21-point integration are used. \n",
    "I am not sure about the order of accuracy but it seems to depend on the problem. \n",
    "With 21-point integration, the order of accuracy might be 21.\n",
    "Even Trapezoidal rule can't match the accuracy of the Black-box *scipy.integrate.quad* routine.\n",
    "Step size of at least smaller than $4 \\times 10^{-8}$ is needed."
   ]
  },
  {
   "cell_type": "code",
   "execution_count": null,
   "metadata": {},
   "outputs": [],
   "source": []
  },
  {
   "cell_type": "code",
   "execution_count": null,
   "metadata": {},
   "outputs": [],
   "source": []
  },
  {
   "cell_type": "markdown",
   "metadata": {},
   "source": [
    "## 3. b)"
   ]
  },
  {
   "cell_type": "code",
   "execution_count": 6,
   "metadata": {},
   "outputs": [],
   "source": [
    "def comoving(z, omega_m, omega_l):\n",
    "    return (omega_m*(1+z)**3+(1-omega_m-omega_l)*(1+z)**2+omega_l)**(-0.5)"
   ]
  },
  {
   "cell_type": "code",
   "execution_count": 45,
   "metadata": {},
   "outputs": [
    {
     "name": "stdout",
     "output_type": "stream",
     "text": [
      "Redshift: 2\n",
      "3628.4136128428017 Mpc h^{-1}\n",
      "5183.44801834686 Mpc\n"
     ]
    }
   ],
   "source": [
    "omega_m=0.3\n",
    "omega_l=0.7\n",
    "h=0.7\n",
    "z=2\n",
    "n=100000\n",
    "\n",
    "z_list=np.linspace(0,z,n+1)\n",
    "delta_z=z/n\n",
    "\n",
    "D_comoving=0\n",
    "for i in range(n):\n",
    "     D_comoving+=(comoving(z_list[i],omega_m,omega_l)+comoving(z_list[i+1],omega_m,omega_l))/2*delta_z*3000\n",
    "\n",
    "print('Redshift: 2')\n",
    "print(D_comoving, 'Mpc h^{-1}')\n",
    "print(D_comoving/h, 'Mpc')"
   ]
  },
  {
   "cell_type": "code",
   "execution_count": 20,
   "metadata": {},
   "outputs": [],
   "source": [
    "omega_m=0.3\n",
    "omega_l=0.7\n",
    "h=0.7\n",
    "z_array=np.linspace(0,10,100)\n",
    "D_comoving_array=[]\n",
    "n=100000\n",
    "\n",
    "for j in range(100):\n",
    "    z=z_array[j]\n",
    "    z_list=np.linspace(0,z,n+1)\n",
    "    delta_z=z/n\n",
    "\n",
    "    D_comoving=0\n",
    "    for i in range(n):\n",
    "        D_comoving+=(comoving(z_list[i],omega_m,omega_l)+comoving(z_list[i+1],omega_m,omega_l))/2*delta_z*3000\n",
    "    D_comoving_array.append(D_comoving/h)"
   ]
  },
  {
   "cell_type": "code",
   "execution_count": 47,
   "metadata": {},
   "outputs": [
    {
     "data": {
      "image/png": "[encoded data removed]",
      "text/plain": [
       "<Figure size 800x600 with 1 Axes>"
      ]
     },
     "metadata": {},
     "output_type": "display_data"
    }
   ],
   "source": [
    "fig=plt.figure(figsize=(8,6),dpi=100)\n",
    "ax1=fig.add_subplot(111)\n",
    "\n",
    "ax1.plot(z_array,D_comoving_array)\n",
    "\n",
    "ax1.set_xlim(0,10)\n",
    "ax1.set_ylim(0,10000)\n",
    "\n",
    "ax1.grid()\n",
    "\n",
    "ax1.set_xlabel('$z$')\n",
    "ax1.set_ylabel('$D_{\\mathrm {comoving}}$ (Mpc)')\n",
    "\n",
    "plt.tight_layout()"
   ]
  },
  {
   "cell_type": "code",
   "execution_count": null,
   "metadata": {},
   "outputs": [],
   "source": []
  }
 ],
 "metadata": {
  "kernelspec": {
   "display_name": "Python 3",
   "language": "python",
   "name": "python3"
  },
  "language_info": {
   "codemirror_mode": {
    "name": "ipython",
    "version": 3
   },
   "file_extension": ".py",
   "mimetype": "text/x-python",
   "name": "python",
   "nbconvert_exporter": "python",
   "pygments_lexer": "ipython3",
   "version": "3.6.5"
  }
 },
 "nbformat": 4,
 "nbformat_minor": 5
}
