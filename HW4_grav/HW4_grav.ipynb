{
 "cells": [
  {
   "cell_type": "code",
   "execution_count": 1,
   "metadata": {},
   "outputs": [],
   "source": [
    "import numpy as np\n",
    "import gc\n",
    "import h5py\n",
    "import matplotlib.pyplot as plt\n",
    "from mpl_toolkits.mplot3d import Axes3D\n",
    "import numpy as np\n",
    "import matplotlib as mpl\n",
    "#from sklearn.neighbors import KDTree\n",
    "import threading\n",
    "from numpy import linalg as LA\n",
    "from sympy import Plane, Point3D\n",
    "import pandas as pd\n",
    "from mpl_toolkits.axes_grid1 import AxesGrid\n",
    "import matplotlib.colors as colors\n",
    "import matplotlib.cbook as cbook\n",
    "import math\n",
    "import copy\n",
    "import sys\n",
    "import os\n",
    "from os.path import isfile, join\n",
    "from scipy.spatial import cKDTree\n",
    "from scipy.optimize import curve_fit\n",
    "import scipy\n",
    "from scipy import integrate\n",
    "from matplotlib.ticker import (MultipleLocator, FormatStrFormatter, AutoMinorLocator)\n",
    "import time\n",
    "\n",
    "import rebound\n",
    "import hyperion\n",
    "from hyperion.model import AnalyticalYSOModel\n",
    "from hyperion.model import ModelOutput\n",
    "from hyperion.util.constants import rsun, lsun, au, msun, yr, c\n",
    "\n",
    "plt.rcParams['font.weight'] = 'normal'\n",
    "plt.rcParams['text.usetex']=False\n",
    "plt.rcParams['font.family']='stixgeneral'\n",
    "plt.rcParams['mathtext.fontset']='stix'\n",
    "plt.rcParams['font.size'] = 20\n",
    "plt.rc('figure', facecolor='w')\n",
    "\n",
    "## Constants in cgs unites\n",
    "G=6.67408e-8\n",
    "H=67.26*3.2408e-20\n",
    "k_B=1.38064852e-16\n",
    "M_sun=1.99e+33\n",
    "pc=3.086e18\n",
    "kpc=3.086e21\n",
    "Mpc=3.086e24\n",
    "Gyr=365*24*3600*1e9\n",
    "Myr=365*24*3600*1e6\n",
    "m_p=1.6726219e-24\n",
    "eV=1.602176634e-12\n",
    "h_bar=1.0545718e-27\n",
    "R_sun=6.957e+10\n",
    "\n",
    "h=0.6774"
   ]
  },
  {
   "cell_type": "code",
   "execution_count": null,
   "metadata": {},
   "outputs": [],
   "source": []
  },
  {
   "cell_type": "code",
   "execution_count": 7,
   "metadata": {},
   "outputs": [
    {
     "name": "stderr",
     "output_type": "stream",
     "text": [
      "/home/jhl1862/venv/lib/python3.6/site-packages/ipykernel_launcher.py:1: ParserWarning: Falling back to the 'python' engine because the 'c' engine does not support regex separators (separators > 1 char and different from '\\s+' are interpreted as regex); you can avoid this warning by specifying engine='python'.\n",
      "  \"\"\"Entry point for launching an IPython kernel.\n"
     ]
    },
    {
     "data": {
      "text/html": [
       "<div>\n",
       "<style scoped>\n",
       "    .dataframe tbody tr th:only-of-type {\n",
       "        vertical-align: middle;\n",
       "    }\n",
       "\n",
       "    .dataframe tbody tr th {\n",
       "        vertical-align: top;\n",
       "    }\n",
       "\n",
       "    .dataframe thead th {\n",
       "        text-align: right;\n",
       "    }\n",
       "</style>\n",
       "<table border=\"1\" class=\"dataframe\">\n",
       "  <thead>\n",
       "    <tr style=\"text-align: right;\">\n",
       "      <th></th>\n",
       "      <th>0</th>\n",
       "      <th>1</th>\n",
       "      <th>2</th>\n",
       "      <th>3</th>\n",
       "      <th>4</th>\n",
       "      <th>5</th>\n",
       "    </tr>\n",
       "  </thead>\n",
       "  <tbody>\n",
       "    <tr>\n",
       "      <th>0</th>\n",
       "      <td>2.0</td>\n",
       "      <td>0.0</td>\n",
       "      <td>0.01</td>\n",
       "      <td>1</td>\n",
       "      <td>1.149474</td>\n",
       "      <td>0.013737</td>\n",
       "    </tr>\n",
       "    <tr>\n",
       "      <th>1</th>\n",
       "      <td>2.0</td>\n",
       "      <td>0.0</td>\n",
       "      <td>0.01</td>\n",
       "      <td>2</td>\n",
       "      <td>1.153093</td>\n",
       "      <td>0.013737</td>\n",
       "    </tr>\n",
       "    <tr>\n",
       "      <th>2</th>\n",
       "      <td>2.0</td>\n",
       "      <td>0.0</td>\n",
       "      <td>0.01</td>\n",
       "      <td>3</td>\n",
       "      <td>1.144712</td>\n",
       "      <td>0.013737</td>\n",
       "    </tr>\n",
       "    <tr>\n",
       "      <th>3</th>\n",
       "      <td>2.0</td>\n",
       "      <td>0.0</td>\n",
       "      <td>0.01</td>\n",
       "      <td>5</td>\n",
       "      <td>1.145777</td>\n",
       "      <td>0.013737</td>\n",
       "    </tr>\n",
       "    <tr>\n",
       "      <th>4</th>\n",
       "      <td>2.0</td>\n",
       "      <td>0.0</td>\n",
       "      <td>0.01</td>\n",
       "      <td>7</td>\n",
       "      <td>1.148647</td>\n",
       "      <td>0.013737</td>\n",
       "    </tr>\n",
       "    <tr>\n",
       "      <th>...</th>\n",
       "      <td>...</td>\n",
       "      <td>...</td>\n",
       "      <td>...</td>\n",
       "      <td>...</td>\n",
       "      <td>...</td>\n",
       "      <td>...</td>\n",
       "    </tr>\n",
       "    <tr>\n",
       "      <th>65</th>\n",
       "      <td>2.0</td>\n",
       "      <td>0.0</td>\n",
       "      <td>8.00</td>\n",
       "      <td>2</td>\n",
       "      <td>1.515275</td>\n",
       "      <td>0.023738</td>\n",
       "    </tr>\n",
       "    <tr>\n",
       "      <th>66</th>\n",
       "      <td>2.0</td>\n",
       "      <td>0.0</td>\n",
       "      <td>8.00</td>\n",
       "      <td>3</td>\n",
       "      <td>1.443317</td>\n",
       "      <td>0.013737</td>\n",
       "    </tr>\n",
       "    <tr>\n",
       "      <th>67</th>\n",
       "      <td>2.0</td>\n",
       "      <td>0.0</td>\n",
       "      <td>8.00</td>\n",
       "      <td>5</td>\n",
       "      <td>1.270147</td>\n",
       "      <td>0.013737</td>\n",
       "    </tr>\n",
       "    <tr>\n",
       "      <th>68</th>\n",
       "      <td>2.0</td>\n",
       "      <td>0.0</td>\n",
       "      <td>8.00</td>\n",
       "      <td>7</td>\n",
       "      <td>1.211975</td>\n",
       "      <td>0.013737</td>\n",
       "    </tr>\n",
       "    <tr>\n",
       "      <th>69</th>\n",
       "      <td>2.0</td>\n",
       "      <td>0.0</td>\n",
       "      <td>8.00</td>\n",
       "      <td>9</td>\n",
       "      <td>1.184844</td>\n",
       "      <td>0.013737</td>\n",
       "    </tr>\n",
       "  </tbody>\n",
       "</table>\n",
       "<p>70 rows × 6 columns</p>\n",
       "</div>"
      ],
      "text/plain": [
       "      0    1     2  3         4         5\n",
       "0   2.0  0.0  0.01  1  1.149474  0.013737\n",
       "1   2.0  0.0  0.01  2  1.153093  0.013737\n",
       "2   2.0  0.0  0.01  3  1.144712  0.013737\n",
       "3   2.0  0.0  0.01  5  1.145777  0.013737\n",
       "4   2.0  0.0  0.01  7  1.148647  0.013737\n",
       "..  ...  ...   ... ..       ...       ...\n",
       "65  2.0  0.0  8.00  2  1.515275  0.023738\n",
       "66  2.0  0.0  8.00  3  1.443317  0.013737\n",
       "67  2.0  0.0  8.00  5  1.270147  0.013737\n",
       "68  2.0  0.0  8.00  7  1.211975  0.013737\n",
       "69  2.0  0.0  8.00  9  1.184844  0.013737\n",
       "\n",
       "[70 rows x 6 columns]"
      ]
     },
     "execution_count": 7,
     "metadata": {},
     "output_type": "execute_result"
    }
   ],
   "source": [
    "df=pd.read_csv('result.txt',sep='\\s',header=None)\n",
    "df"
   ]
  },
  {
   "cell_type": "code",
   "execution_count": 12,
   "metadata": {},
   "outputs": [],
   "source": [
    "m=np.array(df[0])\n",
    "b=np.array(df[1])\n",
    "v=np.array(df[2])\n",
    "r=np.array(df[3])\n",
    "chisq=np.array(df[4])\n",
    "\n"
   ]
  },
  {
   "cell_type": "code",
   "execution_count": null,
   "metadata": {},
   "outputs": [],
   "source": []
  },
  {
   "cell_type": "code",
   "execution_count": null,
   "metadata": {},
   "outputs": [],
   "source": []
  },
  {
   "cell_type": "code",
   "execution_count": 15,
   "metadata": {},
   "outputs": [
    {
     "data": {
      "image/png": "[encoded data removed]",
      "text/plain": [
       "<Figure size 600x600 with 1 Axes>"
      ]
     },
     "metadata": {},
     "output_type": "display_data"
    }
   ],
   "source": [
    "# figure\n",
    "fig=plt.figure(figsize=(6,6),dpi=100)\n",
    "ax1=fig.add_subplot(111)\n",
    "\n",
    "ax1.plot(v, chisq, '.')\n",
    "\n",
    "#ax1.set_xlim(-11,11)\n",
    "#ax1.set_ylim(-11,11)\n",
    "\n",
    "ax1.grid()\n",
    "\n",
    "ax1.set_xlabel('$v$ [km/s]')\n",
    "ax1.set_ylabel('$\\chi^{2}$')\n",
    "\n",
    "plt.tight_layout()"
   ]
  },
  {
   "cell_type": "code",
   "execution_count": 17,
   "metadata": {},
   "outputs": [
    {
     "data": {
      "image/png": "[encoded data removed]",
      "text/plain": [
       "<Figure size 600x600 with 1 Axes>"
      ]
     },
     "metadata": {},
     "output_type": "display_data"
    }
   ],
   "source": [
    "# figure\n",
    "fig=plt.figure(figsize=(6,6),dpi=100)\n",
    "ax1=fig.add_subplot(111)\n",
    "\n",
    "ax1.plot(r, chisq, '.')\n",
    "\n",
    "#ax1.set_xlim(-11,11)\n",
    "#ax1.set_ylim(-11,11)\n",
    "\n",
    "ax1.grid()\n",
    "\n",
    "ax1.set_xlabel('$r$ [kpc]')\n",
    "ax1.set_ylabel('$\\chi^{2}$')\n",
    "\n",
    "plt.tight_layout()"
   ]
  },
  {
   "cell_type": "code",
   "execution_count": null,
   "metadata": {},
   "outputs": [],
   "source": []
  },
  {
   "cell_type": "code",
   "execution_count": 19,
   "metadata": {},
   "outputs": [
    {
     "name": "stdout",
     "output_type": "stream",
     "text": [
      "2.0 0.0 30.0 1 0.6735525729999999\n"
     ]
    }
   ],
   "source": [
    "index=np.argmin(chisq)\n",
    "print(m[index], b[index], v[index], r[index], chisq[index])"
   ]
  },
  {
   "cell_type": "code",
   "execution_count": null,
   "metadata": {},
   "outputs": [],
   "source": []
  },
  {
   "cell_type": "code",
   "execution_count": null,
   "metadata": {},
   "outputs": [],
   "source": []
  }
 ],
 "metadata": {
  "kernelspec": {
   "display_name": "Python 3",
   "language": "python",
   "name": "python3"
  },
  "language_info": {
   "codemirror_mode": {
    "name": "ipython",
    "version": 3
   },
   "file_extension": ".py",
   "mimetype": "text/x-python",
   "name": "python",
   "nbconvert_exporter": "python",
   "pygments_lexer": "ipython3",
   "version": "3.6.5"
  }
 },
 "nbformat": 4,
 "nbformat_minor": 4
}
